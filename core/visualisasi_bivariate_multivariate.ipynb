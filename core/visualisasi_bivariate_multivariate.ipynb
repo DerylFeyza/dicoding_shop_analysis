{
 "cells": [
  {
   "cell_type": "markdown",
   "metadata": {},
   "source": [
    "**Scatter Plot**\n",
    "\n",
    "Bentuk visualisasi data pertama yang akan kita bahas ialah scatter plot. Ia merupakan bentuk visualisasi data yang digunakan untuk melihat hubungan antara dua atau lebih variabel data kuantitatif. Pada scatter plot sumbu X, Y, atau Z digunakan untuk menampung nilai dari setiap variabel yang akan divisualkan. Titik pada scatter plot merupakan titik temu data dari setiap sumbu yang digunakan. "
   ]
  },
  {
   "cell_type": "code",
   "execution_count": null,
   "metadata": {},
   "outputs": [],
   "source": [
    "import matplotlib.pyplot as plt\n",
    "  \n",
    "lemon_diameter = [6.44, 6.87, 7.7, 8.85, 8.15, \n",
    "                  9.96, 7.21, 10.04, 10.2, 11.06]\n",
    "lemon_weight = [112.05, 114.58, 116.71, 117.4, 128.93, \n",
    "                132.93, 138.92, 145.98, 148.44, 152.81]\n",
    "  \n",
    "plt.scatter(x=lemon_diameter, y=lemon_weight)\n",
    "plt.show()"
   ]
  },
  {
   "cell_type": "code",
   "execution_count": null,
   "metadata": {},
   "outputs": [],
   "source": [
    "import seaborn as sns\n",
    "# regplot() yang disediakan oleh library seaborn.\n",
    "# Function tersebut memadukan scatter plot dan regression function \n",
    "# (metode statistik untuk memperkirakan korelasi antar independent dan dependent variable)\n",
    "# untuk melihat tren serta korelasi antar variabel. \n",
    "sns.regplot(x=lemon_diameter, y=lemon_weight)\n",
    "plt.show()"
   ]
  },
  {
   "cell_type": "markdown",
   "metadata": {},
   "source": [
    "Pada visualisasi data di atas, garis biru menunjukkan garis korelasi dari hasil regression sedangkan pita di sekitar garis tersebut menunjukkan confidence level dari hasil regression tersebut. Semakin kecil bentuk pita yang dihasilkan menandakan tingkat confidence level yang tinggi.\n",
    "\n",
    "Selain itu, kita juga bisa membuat scatter plot untuk menggambarkan hubungan antar tiga variabel. Namun, untuk kebanyakan kasus kita harus menghindari penggunaan plot tiga dimensi karena sulit diamati dan dipahami."
   ]
  },
  {
   "cell_type": "markdown",
   "metadata": {},
   "source": [
    "**Line Chart**\n",
    "\n",
    "Bentuk visualisasi data yang selanjutnya akan kita bahas ialah line chart. Ia merupakan bentuk grafik yang umum digunakan untuk menggambarkan tren nilai dari suatu variabel terhadap variabel lain. "
   ]
  },
  {
   "cell_type": "code",
   "execution_count": null,
   "metadata": {},
   "outputs": [],
   "source": [
    "import matplotlib.pyplot as plt\n",
    "  \n",
    "lemon_diameter = [6.44, 6.87, 7.7, 8.85, 8.15, \n",
    "                  9.96, 7.21, 10.04, 10.2, 11.06]\n",
    "lemon_weight = [112.05, 114.58, 116.71, 117.4, 128.93, \n",
    "                132.93, 138.92, 145.98, 148.44, 152.81]\n",
    "  \n",
    "plt.plot(lemon_diameter, lemon_weight)\n",
    "plt.show()"
   ]
  },
  {
   "cell_type": "markdown",
   "metadata": {},
   "source": [
    "Bentuk visualisasi data ini umumnya digunakan untuk melihat trend dari data berbentuk time series (data yang direkam dalam interval waktu yang konsisten). Berikut contoh kode untuk menampilkan plot harga saham Bank Central Asia dengan kode saham BBCA."
   ]
  },
  {
   "cell_type": "code",
   "execution_count": null,
   "metadata": {},
   "outputs": [],
   "source": [
    "import pandas as pd\n",
    "import matplotlib.pyplot as plt\n",
    "import requests\n",
    "  \n",
    "url = 'https://query1.finance.yahoo.com/v8/finance/chart/BBCA.JK?events=capitalGain%7Cdiv%7Csplit&formatted=true&includeAdjustedClose=true&interval=1d&period1=1704165596&period2=1735689600&symbol=BBCA&userYfid=true&lang=en-US&region=US'\n",
    "  \n",
    "headers = {\n",
    "    'User-Agent': 'Mozilla/5.0 (Windows NT 10.0; Win64; x64) AppleWebKit/537.36 (KHTML, like Gecko) Chrome/91.0.4472.124 Safari/537.36'\n",
    "}\n",
    "  \n",
    "# Ambil data dari URL\n",
    "response = requests.get(url, headers=headers)\n",
    "  \n",
    "# Konversi data JSON menjadi DataFrame\n",
    "data = response.json()\n",
    "  \n",
    "# Ekstraksi data dari JSON\n",
    "timestamps = data['chart']['result'][0]['timestamp']\n",
    "indicators = data['chart']['result'][0]['indicators']['quote'][0]\n",
    "  \n",
    "# Membuat DataFrame\n",
    "df = pd.DataFrame({\n",
    "    'timestamp': pd.to_datetime(timestamps, unit='s'),\n",
    "    'open': indicators['open'],\n",
    "    'high': indicators['high'],\n",
    "    'low': indicators['low'],\n",
    "    'close': indicators['close'],\n",
    "    'volume': indicators['volume'],\n",
    "})\n",
    "  \n",
    "plt.figure(figsize=(12, 5))\n",
    "plt.plot(df['timestamp'], df['close'], color='red')\n",
    "plt.xlabel('Date',size=15)\n",
    "plt.ylabel('Price',size=15)\n",
    "plt.show()"
   ]
  },
  {
   "cell_type": "markdown",
   "metadata": {},
   "source": [
    "**Clustered Bar Chart**\n",
    "\n",
    "Clustered bar chart merupakan bentuk modifikasi dari bar chart yang sebelumnya kita kenal dengan menambahkan variabel kategoris lain. Modifikasi ini memungkinkan untuk melihat distribusi serta hubungan antar dua atau lebih variabel kategoris. \n",
    "\n",
    "Untuk membuat clustered bar chart, kita bisa menggunakan parameter hue pada function barplot() yang disediakan oleh library seaborn"
   ]
  },
  {
   "cell_type": "code",
   "execution_count": null,
   "metadata": {},
   "outputs": [],
   "source": [
    "import seaborn as sns\n",
    "import matplotlib.pyplot as plt\n",
    "  \n",
    "penguins = sns.load_dataset(\"penguins\")\n",
    "  \n",
    "sns.barplot(data=penguins, x=\"species\", y=\"body_mass_g\", hue=\"sex\", errorbar=None)\n",
    "plt.show()"
   ]
  },
  {
   "cell_type": "markdown",
   "metadata": {},
   "source": [
    "Selain itu, kita juga bisa memodifikasi scatter plot menggunakan shape atau color yang berbeda guna menampilkan hubungan lebih dari dua variabel data. Seperti pada contoh berikut."
   ]
  },
  {
   "cell_type": "code",
   "execution_count": null,
   "metadata": {},
   "outputs": [],
   "source": [
    "import seaborn as sns\n",
    "  \n",
    "penguins = sns.load_dataset(\"penguins\")\n",
    "  \n",
    "sns.scatterplot(data=penguins, x=\"body_mass_g\", y=\"flipper_length_mm\", hue=\"species\", style=\"species\")\n",
    "plt.show()"
   ]
  }
 ],
 "metadata": {
  "kernelspec": {
   "display_name": "venv",
   "language": "python",
   "name": "python3"
  },
  "language_info": {
   "codemirror_mode": {
    "name": "ipython",
    "version": 3
   },
   "file_extension": ".py",
   "mimetype": "text/x-python",
   "name": "python",
   "nbconvert_exporter": "python",
   "pygments_lexer": "ipython3",
   "version": "3.12.6"
  }
 },
 "nbformat": 4,
 "nbformat_minor": 2
}
