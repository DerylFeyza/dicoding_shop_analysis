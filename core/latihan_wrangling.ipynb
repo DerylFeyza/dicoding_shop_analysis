{
 "cells": [
  {
   "cell_type": "code",
   "execution_count": 23,
   "metadata": {},
   "outputs": [],
   "source": [
    "import numpy as np\n",
    "import pandas as pd\n",
    "import matplotlib.pyplot as plt\n",
    "import seaborn as sns\n",
    "customers_df = pd.read_csv(\"../data/customers.csv\")\n",
    "orders_df = pd.read_csv(\"../data/orders.csv\")\n",
    "products_df = pd.read_csv(\"../data/products.csv\")\n",
    "sales_df = pd.read_csv(\"../data/sales.csv\")\n"
   ]
  },
  {
   "cell_type": "code",
   "execution_count": null,
   "metadata": {},
   "outputs": [],
   "source": [
    "customers_df.info()\n",
    "print(\"jumlah null:\\n\",customers_df.isna().sum(), \"\\n\")\n",
    "print(\"Jumlah duplikasi: \", customers_df.duplicated().sum())\n",
    "customers_df.describe()"
   ]
  },
  {
   "cell_type": "code",
   "execution_count": null,
   "metadata": {},
   "outputs": [],
   "source": [
    "#Customers Data Prints\n",
    "customers_df[customers_df.age == customers_df.age.max()]\n"
   ]
  },
  {
   "cell_type": "code",
   "execution_count": null,
   "metadata": {},
   "outputs": [],
   "source": [
    "customers_df[customers_df.gender.isna()]\n"
   ]
  },
  {
   "cell_type": "code",
   "execution_count": null,
   "metadata": {},
   "outputs": [],
   "source": [
    "customers_df.gender.value_counts()"
   ]
  },
  {
   "cell_type": "code",
   "execution_count": 18,
   "metadata": {},
   "outputs": [],
   "source": [
    "#Cleaning Customers Data\n",
    "customers_df.fillna(value=\"Prefer not to say\", inplace=True)\n",
    "customers_df.drop_duplicates(inplace=True)"
   ]
  },
  {
   "cell_type": "code",
   "execution_count": 10,
   "metadata": {},
   "outputs": [],
   "source": [
    "#Cleaning Customers Data\n",
    "customers_df['age'] = customers_df['age'].replace(customers_df['age'].max(), 50)"
   ]
  },
  {
   "cell_type": "code",
   "execution_count": null,
   "metadata": {},
   "outputs": [],
   "source": [
    "orders_df.info()\n",
    "print(\"jumlah null:\\n\",orders_df.isna().sum(), \"\\n\")\n",
    "print(\"Jumlah duplikasi: \", orders_df.duplicated().sum())\n",
    "orders_df.describe()"
   ]
  },
  {
   "cell_type": "code",
   "execution_count": 21,
   "metadata": {},
   "outputs": [],
   "source": [
    "#Cleaning Orders, converting object to datetime on order_date and delivery_date column\n",
    "datetime_columns = [\"order_date\", \"delivery_date\"]\n",
    "  \n",
    "for column in datetime_columns:\n",
    "  orders_df[column] = pd.to_datetime(orders_df[column])"
   ]
  },
  {
   "cell_type": "code",
   "execution_count": null,
   "metadata": {},
   "outputs": [],
   "source": [
    "products_df.info()\n",
    "print(\"jumlah null:\\n\",products_df.isna().sum(), \"\\n\")\n",
    "print(\"Jumlah duplikasi: \", products_df.duplicated().sum())\n",
    "products_df.describe()"
   ]
  },
  {
   "cell_type": "code",
   "execution_count": 25,
   "metadata": {},
   "outputs": [],
   "source": [
    "#Cleaning Products Data\n",
    "products_df.drop_duplicates(inplace=True)"
   ]
  },
  {
   "cell_type": "code",
   "execution_count": 31,
   "metadata": {},
   "outputs": [
    {
     "name": "stdout",
     "output_type": "stream",
     "text": [
      "<class 'pandas.core.frame.DataFrame'>\n",
      "RangeIndex: 5000 entries, 0 to 4999\n",
      "Data columns (total 6 columns):\n",
      " #   Column          Non-Null Count  Dtype\n",
      "---  ------          --------------  -----\n",
      " 0   sales_id        5000 non-null   int64\n",
      " 1   order_id        5000 non-null   int64\n",
      " 2   product_id      5000 non-null   int64\n",
      " 3   price_per_unit  5000 non-null   int64\n",
      " 4   quantity        5000 non-null   int64\n",
      " 5   total_price     5000 non-null   int64\n",
      "dtypes: int64(6)\n",
      "memory usage: 234.5 KB\n",
      "jumlah null:\n",
      " sales_id          0\n",
      "order_id          0\n",
      "product_id        0\n",
      "price_per_unit    0\n",
      "quantity          0\n",
      "total_price       0\n",
      "dtype: int64 \n",
      "\n",
      "Jumlah duplikasi:  0\n"
     ]
    },
    {
     "data": {
      "text/html": [
       "<div>\n",
       "<style scoped>\n",
       "    .dataframe tbody tr th:only-of-type {\n",
       "        vertical-align: middle;\n",
       "    }\n",
       "\n",
       "    .dataframe tbody tr th {\n",
       "        vertical-align: top;\n",
       "    }\n",
       "\n",
       "    .dataframe thead th {\n",
       "        text-align: right;\n",
       "    }\n",
       "</style>\n",
       "<table border=\"1\" class=\"dataframe\">\n",
       "  <thead>\n",
       "    <tr style=\"text-align: right;\">\n",
       "      <th></th>\n",
       "      <th>sales_id</th>\n",
       "      <th>order_id</th>\n",
       "      <th>product_id</th>\n",
       "      <th>price_per_unit</th>\n",
       "      <th>quantity</th>\n",
       "      <th>total_price</th>\n",
       "    </tr>\n",
       "  </thead>\n",
       "  <tbody>\n",
       "    <tr>\n",
       "      <th>count</th>\n",
       "      <td>5000.000000</td>\n",
       "      <td>5000.000000</td>\n",
       "      <td>5000.000000</td>\n",
       "      <td>5000.000000</td>\n",
       "      <td>5000.00000</td>\n",
       "      <td>5000.000000</td>\n",
       "    </tr>\n",
       "    <tr>\n",
       "      <th>mean</th>\n",
       "      <td>2499.500000</td>\n",
       "      <td>503.038200</td>\n",
       "      <td>634.053200</td>\n",
       "      <td>103.501600</td>\n",
       "      <td>1.99240</td>\n",
       "      <td>206.360000</td>\n",
       "    </tr>\n",
       "    <tr>\n",
       "      <th>std</th>\n",
       "      <td>1443.520003</td>\n",
       "      <td>285.964418</td>\n",
       "      <td>363.255794</td>\n",
       "      <td>9.195004</td>\n",
       "      <td>0.80751</td>\n",
       "      <td>86.357457</td>\n",
       "    </tr>\n",
       "    <tr>\n",
       "      <th>min</th>\n",
       "      <td>0.000000</td>\n",
       "      <td>1.000000</td>\n",
       "      <td>1.000000</td>\n",
       "      <td>90.000000</td>\n",
       "      <td>1.00000</td>\n",
       "      <td>90.000000</td>\n",
       "    </tr>\n",
       "    <tr>\n",
       "      <th>25%</th>\n",
       "      <td>1249.750000</td>\n",
       "      <td>258.000000</td>\n",
       "      <td>323.000000</td>\n",
       "      <td>95.000000</td>\n",
       "      <td>1.00000</td>\n",
       "      <td>112.000000</td>\n",
       "    </tr>\n",
       "    <tr>\n",
       "      <th>50%</th>\n",
       "      <td>2499.500000</td>\n",
       "      <td>504.500000</td>\n",
       "      <td>635.000000</td>\n",
       "      <td>102.000000</td>\n",
       "      <td>2.00000</td>\n",
       "      <td>204.000000</td>\n",
       "    </tr>\n",
       "    <tr>\n",
       "      <th>75%</th>\n",
       "      <td>3749.250000</td>\n",
       "      <td>749.000000</td>\n",
       "      <td>951.000000</td>\n",
       "      <td>112.000000</td>\n",
       "      <td>3.00000</td>\n",
       "      <td>285.000000</td>\n",
       "    </tr>\n",
       "    <tr>\n",
       "      <th>max</th>\n",
       "      <td>4999.000000</td>\n",
       "      <td>999.000000</td>\n",
       "      <td>1259.000000</td>\n",
       "      <td>119.000000</td>\n",
       "      <td>3.00000</td>\n",
       "      <td>357.000000</td>\n",
       "    </tr>\n",
       "  </tbody>\n",
       "</table>\n",
       "</div>"
      ],
      "text/plain": [
       "          sales_id     order_id   product_id  price_per_unit    quantity  \\\n",
       "count  5000.000000  5000.000000  5000.000000     5000.000000  5000.00000   \n",
       "mean   2499.500000   503.038200   634.053200      103.501600     1.99240   \n",
       "std    1443.520003   285.964418   363.255794        9.195004     0.80751   \n",
       "min       0.000000     1.000000     1.000000       90.000000     1.00000   \n",
       "25%    1249.750000   258.000000   323.000000       95.000000     1.00000   \n",
       "50%    2499.500000   504.500000   635.000000      102.000000     2.00000   \n",
       "75%    3749.250000   749.000000   951.000000      112.000000     3.00000   \n",
       "max    4999.000000   999.000000  1259.000000      119.000000     3.00000   \n",
       "\n",
       "       total_price  \n",
       "count  5000.000000  \n",
       "mean    206.360000  \n",
       "std      86.357457  \n",
       "min      90.000000  \n",
       "25%     112.000000  \n",
       "50%     204.000000  \n",
       "75%     285.000000  \n",
       "max     357.000000  "
      ]
     },
     "execution_count": 31,
     "metadata": {},
     "output_type": "execute_result"
    }
   ],
   "source": [
    "sales_df.info()\n",
    "print(\"jumlah null:\\n\",sales_df.isna().sum(), \"\\n\")\n",
    "print(\"Jumlah duplikasi: \", sales_df.duplicated().sum())\n",
    "sales_df.describe()"
   ]
  },
  {
   "cell_type": "code",
   "execution_count": 30,
   "metadata": {},
   "outputs": [
    {
     "data": {
      "text/html": [
       "<div>\n",
       "<style scoped>\n",
       "    .dataframe tbody tr th:only-of-type {\n",
       "        vertical-align: middle;\n",
       "    }\n",
       "\n",
       "    .dataframe tbody tr th {\n",
       "        vertical-align: top;\n",
       "    }\n",
       "\n",
       "    .dataframe thead th {\n",
       "        text-align: right;\n",
       "    }\n",
       "</style>\n",
       "<table border=\"1\" class=\"dataframe\">\n",
       "  <thead>\n",
       "    <tr style=\"text-align: right;\">\n",
       "      <th></th>\n",
       "      <th>sales_id</th>\n",
       "      <th>order_id</th>\n",
       "      <th>product_id</th>\n",
       "      <th>price_per_unit</th>\n",
       "      <th>quantity</th>\n",
       "      <th>total_price</th>\n",
       "    </tr>\n",
       "  </thead>\n",
       "  <tbody>\n",
       "  </tbody>\n",
       "</table>\n",
       "</div>"
      ],
      "text/plain": [
       "Empty DataFrame\n",
       "Columns: [sales_id, order_id, product_id, price_per_unit, quantity, total_price]\n",
       "Index: []"
      ]
     },
     "execution_count": 30,
     "metadata": {},
     "output_type": "execute_result"
    }
   ],
   "source": [
    "sales_df[sales_df.total_price.isna()]"
   ]
  },
  {
   "cell_type": "code",
   "execution_count": 29,
   "metadata": {},
   "outputs": [],
   "source": [
    "# Cleaning Sales Data\n",
    "sales_df[\"total_price\"] = sales_df[\"price_per_unit\"] * sales_df[\"quantity\"]"
   ]
  }
 ],
 "metadata": {
  "kernelspec": {
   "display_name": "venv",
   "language": "python",
   "name": "python3"
  },
  "language_info": {
   "codemirror_mode": {
    "name": "ipython",
    "version": 3
   },
   "file_extension": ".py",
   "mimetype": "text/x-python",
   "name": "python",
   "nbconvert_exporter": "python",
   "pygments_lexer": "ipython3",
   "version": "3.12.6"
  }
 },
 "nbformat": 4,
 "nbformat_minor": 2
}
