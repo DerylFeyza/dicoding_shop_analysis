{
 "cells": [
  {
   "cell_type": "code",
   "execution_count": 1,
   "metadata": {},
   "outputs": [
    {
     "name": "stdout",
     "output_type": "stream",
     "text": [
      "2.0\n"
     ]
    }
   ],
   "source": [
    "import numpy as np\n",
    "  \n",
    "jumlah_kucing = np.array([3, 2, 1, 1, 2, 3, 2, 1, 0, 2])\n",
    "median = np.median(jumlah_kucing)\n",
    "print (median)"
   ]
  },
  {
   "cell_type": "code",
   "execution_count": null,
   "metadata": {},
   "outputs": [],
   "source": []
  },
  {
   "cell_type": "code",
   "execution_count": 2,
   "metadata": {},
   "outputs": [
    {
     "name": "stdout",
     "output_type": "stream",
     "text": [
      "6\n"
     ]
    }
   ],
   "source": [
    "import numpy as np\n",
    "  \n",
    "jumlah_kucing = np.array([2,4,6,8])\n",
    "range = jumlah_kucing.max() - jumlah_kucing.min()\n",
    "print(range)"
   ]
  },
  {
   "cell_type": "code",
   "execution_count": 3,
   "metadata": {},
   "outputs": [
    {
     "name": "stdout",
     "output_type": "stream",
     "text": [
      "1.0\n"
     ]
    }
   ],
   "source": [
    "import numpy as np\n",
    " \n",
    "jumlah_kucing = np.array([3, 2, 1, 1, 2, 3, 2, 1, 0, 2])\n",
    "iqr = np.percentile(jumlah_kucing, 75) - np.percentile(jumlah_kucing, 25)\n",
    "print(iqr)"
   ]
  },
  {
   "cell_type": "code",
   "execution_count": 4,
   "metadata": {},
   "outputs": [
    {
     "data": {
      "text/plain": [
       "np.float64(6.666666666666667)"
      ]
     },
     "execution_count": 4,
     "metadata": {},
     "output_type": "execute_result"
    }
   ],
   "source": [
    "import numpy as np\n",
    "import pandas as pd\n",
    " \n",
    "jumlah_kucing = np.array([2,4,6,8])\n",
    "jumlah_kucing_series = pd.Series(jumlah_kucing)\n",
    "jumlah_kucing_series.var()"
   ]
  },
  {
   "cell_type": "code",
   "execution_count": 5,
   "metadata": {},
   "outputs": [
    {
     "data": {
      "text/plain": [
       "np.float64(0.9486832980505139)"
      ]
     },
     "execution_count": 5,
     "metadata": {},
     "output_type": "execute_result"
    }
   ],
   "source": [
    "import numpy as np\n",
    "import pandas as pd\n",
    " \n",
    "jumlah_kucing = np.array([3, 2, 1, 1, 2, 3, 2, 1, 0, 2])\n",
    "jumlah_kucing_series = pd.Series(jumlah_kucing)\n",
    "jumlah_kucing_series.std()"
   ]
  },
  {
   "cell_type": "code",
   "execution_count": 6,
   "metadata": {},
   "outputs": [
    {
     "data": {
      "image/png": "[encoded data removed]",
      "text/plain": [
       "<Figure size 640x480 with 1 Axes>"
      ]
     },
     "metadata": {},
     "output_type": "display_data"
    }
   ],
   "source": [
    "import numpy as np\n",
    "import matplotlib.pyplot as plt\n",
    "  \n",
    "jumlah_kucing = np.array([3, 2, 1, 1, 2, 3, 2, 1, 0, 2])\n",
    "plt.hist(jumlah_kucing, bins=4)\n",
    "plt.show()"
   ]
  },
  {
   "cell_type": "code",
   "execution_count": 7,
   "metadata": {},
   "outputs": [
    {
     "data": {
      "text/plain": [
       "np.float64(-0.2342427896421018)"
      ]
     },
     "execution_count": 7,
     "metadata": {},
     "output_type": "execute_result"
    }
   ],
   "source": [
    "import numpy as np\n",
    "import pandas as pd\n",
    "  \n",
    "jumlah_kucing = np.array([3, 2, 1, 1, 2, 3, 2, 1, 0, 2])\n",
    "jumlah_kucing_series = pd.Series(jumlah_kucing)\n",
    "jumlah_kucing_series.skew()"
   ]
  },
  {
   "cell_type": "code",
   "execution_count": 8,
   "metadata": {},
   "outputs": [
    {
     "data": {
      "text/html": [
       "<div>\n",
       "<style scoped>\n",
       "    .dataframe tbody tr th:only-of-type {\n",
       "        vertical-align: middle;\n",
       "    }\n",
       "\n",
       "    .dataframe tbody tr th {\n",
       "        vertical-align: top;\n",
       "    }\n",
       "\n",
       "    .dataframe thead th {\n",
       "        text-align: right;\n",
       "    }\n",
       "</style>\n",
       "<table border=\"1\" class=\"dataframe\">\n",
       "  <thead>\n",
       "    <tr style=\"text-align: right;\">\n",
       "      <th></th>\n",
       "      <th>age</th>\n",
       "      <th>communication_skill_score</th>\n",
       "      <th>quantitative_skill_score</th>\n",
       "    </tr>\n",
       "  </thead>\n",
       "  <tbody>\n",
       "    <tr>\n",
       "      <th>age</th>\n",
       "      <td>1.000000</td>\n",
       "      <td>0.907037</td>\n",
       "      <td>-0.965300</td>\n",
       "    </tr>\n",
       "    <tr>\n",
       "      <th>communication_skill_score</th>\n",
       "      <td>0.907037</td>\n",
       "      <td>1.000000</td>\n",
       "      <td>-0.873273</td>\n",
       "    </tr>\n",
       "    <tr>\n",
       "      <th>quantitative_skill_score</th>\n",
       "      <td>-0.965300</td>\n",
       "      <td>-0.873273</td>\n",
       "      <td>1.000000</td>\n",
       "    </tr>\n",
       "  </tbody>\n",
       "</table>\n",
       "</div>"
      ],
      "text/plain": [
       "                                age  communication_skill_score  \\\n",
       "age                        1.000000                   0.907037   \n",
       "communication_skill_score  0.907037                   1.000000   \n",
       "quantitative_skill_score  -0.965300                  -0.873273   \n",
       "\n",
       "                           quantitative_skill_score  \n",
       "age                                       -0.965300  \n",
       "communication_skill_score                 -0.873273  \n",
       "quantitative_skill_score                   1.000000  "
      ]
     },
     "execution_count": 8,
     "metadata": {},
     "output_type": "execute_result"
    }
   ],
   "source": [
    "import pandas as pd\n",
    "\n",
    "sample_data = {\n",
    "'name': ['John', 'Alia', 'Ananya', 'Steve', 'Ben', \"smeg\"],\n",
    "'age': [24, 22, 23, 25, 28, 32],  \n",
    "'communication_skill_score': [85, 70, 75, 90, 90, 100],\n",
    "'quantitative_skill_score': [80, 90, 80, 75, 70, 40]\n",
    "}\n",
    "\n",
    "df = pd.DataFrame(sample_data)\n",
    "\n",
    "df.corr(numeric_only=True)"
   ]
  },
  {
   "cell_type": "code",
   "execution_count": 9,
   "metadata": {},
   "outputs": [
    {
     "data": {
      "text/html": [
       "<div>\n",
       "<style scoped>\n",
       "    .dataframe tbody tr th:only-of-type {\n",
       "        vertical-align: middle;\n",
       "    }\n",
       "\n",
       "    .dataframe tbody tr th {\n",
       "        vertical-align: top;\n",
       "    }\n",
       "\n",
       "    .dataframe thead th {\n",
       "        text-align: right;\n",
       "    }\n",
       "</style>\n",
       "<table border=\"1\" class=\"dataframe\">\n",
       "  <thead>\n",
       "    <tr style=\"text-align: right;\">\n",
       "      <th></th>\n",
       "      <th>age</th>\n",
       "      <th>communication_skill_score</th>\n",
       "      <th>quantitative_skill_score</th>\n",
       "    </tr>\n",
       "  </thead>\n",
       "  <tbody>\n",
       "    <tr>\n",
       "      <th>age</th>\n",
       "      <td>5.30</td>\n",
       "      <td>17.75</td>\n",
       "      <td>-15.75</td>\n",
       "    </tr>\n",
       "    <tr>\n",
       "      <th>communication_skill_score</th>\n",
       "      <td>17.75</td>\n",
       "      <td>82.50</td>\n",
       "      <td>-60.00</td>\n",
       "    </tr>\n",
       "    <tr>\n",
       "      <th>quantitative_skill_score</th>\n",
       "      <td>-15.75</td>\n",
       "      <td>-60.00</td>\n",
       "      <td>55.00</td>\n",
       "    </tr>\n",
       "  </tbody>\n",
       "</table>\n",
       "</div>"
      ],
      "text/plain": [
       "                             age  communication_skill_score  \\\n",
       "age                         5.30                      17.75   \n",
       "communication_skill_score  17.75                      82.50   \n",
       "quantitative_skill_score  -15.75                     -60.00   \n",
       "\n",
       "                           quantitative_skill_score  \n",
       "age                                          -15.75  \n",
       "communication_skill_score                    -60.00  \n",
       "quantitative_skill_score                      55.00  "
      ]
     },
     "execution_count": 9,
     "metadata": {},
     "output_type": "execute_result"
    }
   ],
   "source": [
    "import pandas as pd\n",
    "  \n",
    "sample_data = {\n",
    "    'name': ['John', 'Alia', 'Ananya', 'Steve', 'Ben'],\n",
    "    'age': [24, 22, 23, 25, 28],  \n",
    "    'communication_skill_score': [85, 70, 75, 90, 90],\n",
    "    'quantitative_skill_score': [80, 90, 80, 75, 70]\n",
    "}\n",
    "  \n",
    "df = pd.DataFrame(sample_data)\n",
    "  \n",
    "df.cov(numeric_only=True)"
   ]
  }
 ],
 "metadata": {
  "kernelspec": {
   "display_name": "venv",
   "language": "python",
   "name": "python3"
  },
  "language_info": {
   "codemirror_mode": {
    "name": "ipython",
    "version": 3
   },
   "file_extension": ".py",
   "mimetype": "text/x-python",
   "name": "python",
   "nbconvert_exporter": "python",
   "pygments_lexer": "ipython3",
   "version": "3.12.6"
  }
 },
 "nbformat": 4,
 "nbformat_minor": 2
}
